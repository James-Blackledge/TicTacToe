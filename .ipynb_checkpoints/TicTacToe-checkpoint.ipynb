{
 "cells": [
  {
   "cell_type": "markdown",
   "metadata": {},
   "source": [
    "# Noughts & Crosses.\n",
    "\n",
    "## Rules.\n",
    "Noughts and Crosses is a game which involves two players, taking turns on marking positions on a 3x3 grid with either an 'X' or an 'O'. In order to win the game, a player must successfully place three of their markers in a horizontal, vertical or diagonal series. If no player is able to place their markers in a series of three, then the game is considered a draw."
   ]
  },
  {
   "cell_type": "code",
   "execution_count": null,
   "metadata": {},
   "outputs": [],
   "source": [
    "printBoard = lambda num: print(\"\\n{} | {} | {}\\n---------\\n{} | {} | {}\\n---------\\n{} | {} | {}\\n\".format(\n",
    "    num[6], num[7], num[8], num[3], num[4], num[5], num[0], num[1], num[2]))\n",
    "\n",
    "boardPosition = [str(x) for x in range(1, 10)]\n",
    "scoreMap = {'X': '000000000', 'O': '000000000'}\n",
    "\n",
    "correctCombs = ['111000000', '000111000', '000000111', '100100100', '010010010', '001001001', '100010001', '001010100']\n",
    "\n",
    "for i in range(1, 10):\n",
    "    printBoard(boardPosition)\n",
    "    \n",
    "    playerMarker = 0\n",
    "    playerTurn = ('X', 'O')[i % 2 == 0]\n",
    "\n",
    "    while playerMarker == 0:\n",
    "        playerMarker = int(input(\"{} >> Enter Position - {}: \".format(playerTurn, ', '.join([x for x in boardPosition if x.isdigit()]))))\n",
    "\n",
    "        if boardPosition[playerMarker - 1].isdigit():\n",
    "            boardPosition[playerMarker - 1] = playerTurn    \n",
    "            scoreMap[playerTurn] = scoreMap[playerTurn][:playerMarker - 1] + '1' + scoreMap[playerTurn][playerMarker:]\n",
    "        else:\n",
    "            print(\"\\nPosition \\'{}\\' Is Taken By {}\\'s.\\n\".format(playerMarker, boardPosition[playerMarker - 1])); playerMarker = 0\n",
    "\n",
    "    if scoreMap[playerTurn] in correctCombs:\n",
    "        printBoard(boardPosition)\n",
    "        print(\"{}\\'s Win!\".format(playerTurn)); break"
   ]
  },
  {
   "cell_type": "markdown",
   "metadata": {},
   "source": [
    "# The First Iteration (27/01/2018).\n",
    "\n",
    "\n",
    "## The Board.\n",
    "```python\n",
    "printBoard = lambda num: print(\"\\n{} | {} | {}\\n---------\\n{} | {} | {}\\n---------\\n{} | {} | {}\\n\".format(\n",
    "    num[6], num[7], num[8], num[3], num[4], num[5], num[0], num[1], num[2]))\n",
    "```\n",
    "This lambda function, *printBoard()*, takes a paremeter, in the form of a list object. The list argument should consist of 9 elements; initially the elements will be numbers ordered from 1 to 9. The string argument of the *print()* function neatly outputs the board for noughts and crosses. The use of the list argument allows the program to update the board when a player  has placed their marker in a particualr position. For example, if the player on the 'X' team places their marker in the middle of the board (the 5<sup>th</sup> position), num[4] would equal 'X'; thus the 5<sup>th</sup> position will not contain '5', it will contain 'X'.\n",
    "\n",
    "```python\n",
    "boardPosition = [str(x) for x in range(1, 10)]\n",
    "```\n",
    "The list object *boardPosition[]* contains numbers ordered from 1 to 9 that will be used to identify positions on the board. I typecast the integers to the string data type so that I can neatly display them on the noughts and crosses board. This will also allow me to replace a particular number in the list (the position on the board) with a player marker ('X' or 'O') that is also of string data type. This list object is parsed through the printBoard function. When the board is displayed, it will look idential to this:"
   ]
  },
  {
   "cell_type": "code",
   "execution_count": 1,
   "metadata": {
    "hide_input": true
   },
   "outputs": [
    {
     "name": "stdout",
     "output_type": "stream",
     "text": [
      "\n",
      "7 | 8 | 9\n",
      "---------\n",
      "4 | 5 | 6\n",
      "---------\n",
      "1 | 2 | 3\n",
      "\n"
     ]
    }
   ],
   "source": [
    "printBoard = lambda num: print(\"\\n{} | {} | {}\\n---------\\n{} | {} | {}\\n---------\\n{} | {} | {}\\n\".format(\n",
    "    num[6], num[7], num[8], num[3], num[4], num[5], num[0], num[1], num[2]))\n",
    "\n",
    "boardPosition = [str(x) for x in range(1, 10)]\n",
    "\n",
    "printBoard(boardPosition)"
   ]
  },
  {
   "cell_type": "markdown",
   "metadata": {},
   "source": [
    "```python\n",
    "scoreMap = {'X': '000000000', 'O': '000000000'}\n",
    "```\n",
    "The dictionary object *scoreMap{}* maps each player marker ('X' or 'O') with a string, representing where on the board the player has a marker. If the player has a marker in a particular position, the position index will be used to replace the '0' with a '1' in the mapped string index (using the same position index). For example, if the 'X' player has their marker in board positions 1, 4, and 7, the string mapped to 'X' will change from '000000000' to '100100100'. The value mapped to the key is used to check if the player has won.\n",
    "\n",
    "```python\n",
    "correctCombs = ['111000000', '000111000', '000000111', '100100100', '010010010', '001001001', '100010001', '001010100']\n",
    "```\n",
    "The list object *correctCombs[]* contains all of the correct winning combonations. This list is used to identify whether the player has won, by checking if the string mapped to the player marker in the *scoreMap{}* dictionary object is in this list.\n",
    "\n",
    "## The Main Game.\n",
    "\n",
    "```python\n",
    "for i in range(1, 10):\n",
    "```\n",
    "This for loop will iterate 9 times over. The counter variable 'i' will start off equating to 1, and will increment by 1 each loop until the 9<sup>th</sup> iteration. This counter variable is used to identifiy which player's turn it is.\n",
    "\n",
    "```python\n",
    "printBoard(boardPosition)\n",
    "```\n",
    "Here I parse the *boardPosition[]* list object through the lambda function *printBoard()*. This will simply display the board to the user.\n",
    "\n",
    "```python\n",
    "playerMarker = 0\n",
    "playerTurn = ('X', 'O')[i % 2 == 0]\n",
    "```\n",
    "The *playerMarker* variable simply stores the number 0. This will allow the following while loop to enter it's cycle, but this will change when the player choses where they want to move.\n",
    "\n",
    "The *playerTurn* variable stores a tuple data structure. It contains two string indexes; an 'X' and an 'O'. The use of Python's tuple ternary operation allows the program to obtain the index depending on the given index. For example, if the index positon returns ```True```, then *playerTurn* will equate to an 'O'. This provides an efficient solution to choosing the player, without any recursion."
   ]
  },
  {
   "cell_type": "code",
   "execution_count": 2,
   "metadata": {
    "hide_input": true
   },
   "outputs": [
    {
     "name": "stdout",
     "output_type": "stream",
     "text": [
      "When 'i' = 1, 'playerTurn' = X\n",
      "When 'i' = 2, 'playerTurn' = O\n",
      "When 'i' = 3, 'playerTurn' = X\n",
      "When 'i' = 4, 'playerTurn' = O\n",
      "When 'i' = 5, 'playerTurn' = X\n",
      "When 'i' = 6, 'playerTurn' = O\n",
      "When 'i' = 7, 'playerTurn' = X\n",
      "When 'i' = 8, 'playerTurn' = O\n",
      "When 'i' = 9, 'playerTurn' = X\n"
     ]
    }
   ],
   "source": [
    "for i in range(1, 10):\n",
    "    playerTurn = ('X', 'O')[i % 2 == 0]\n",
    "    \n",
    "    print(\"When \\'i\\' = {}, \\'playerTurn' = {}\".format(i, playerTurn))"
   ]
  },
  {
   "cell_type": "markdown",
   "metadata": {},
   "source": [
    "```python\n",
    "while playerMarker == 0:\n",
    "```\n",
    "This loop will continue iterating until the *playerMarker* is not equal to 0.\n",
    "\n",
    "```python\n",
    "playerMarker = int(input(\"{} >> Enter Position - {}: \".format(playerTurn, ', '.join(\n",
    "    [x for x in boardPosition if x.isdigit()]))))\n",
    "```\n",
    "The *playerMarker* variable now accepts an integer input from the user. This input is used to determine what position the player marker ('X' or 'O') will be placed. I use string formatting in order to show the available positions on the board, given by the list comprehension.\n",
    "\n",
    "```python\n",
    "if boardPosition[playerMarker - 1].isdigit():\n",
    "    boardPosition[playerMarker - 1] = playerTurn    \n",
    "    scoreMap[playerTurn] = scoreMap[playerTurn][:playerMarker - 1] + '1' + scoreMap[playerTurn][playerMarker:]\n",
    "```\n",
    "This if statement checks to see whether the position entered by the player is a digit; If it is a digit, then the position is not occupied. The program then changes the number inside the list containing positions to a the player marker - either an 'X' or an 'O'. For example, if the 'X' player entered positon 5 and it was available, the number 5 in the list containing positions would be replaced with an 'X'. When the board is printed to the console, the player would see that their marker has been placed in the correct position. Lastly, the dictionary object *scoreMap* that maps the score to the player marker is updated. For example, since the 'X' player entered position 5 and it was vacant, the key assigned to 'X' in the *scoreMap* dictionary would change from '000000000' to '000010000'. Since the *playerMarker* variable does not equate to 0, the while loop will be broken out of."
   ]
  },
  {
   "cell_type": "code",
   "execution_count": 3,
   "metadata": {
    "hide_input": true
   },
   "outputs": [
    {
     "name": "stdout",
     "output_type": "stream",
     "text": [
      "{'O': '000000000', 'X': '000010000'}\n"
     ]
    }
   ],
   "source": [
    "scoreMap = {'X': '000000000', 'O': '000000000'}\n",
    "\n",
    "playerTurn = 'X'; playerMarker = 5\n",
    "\n",
    "scoreMap[playerTurn] = scoreMap[playerTurn][:playerMarker - 1] + '1' + scoreMap[playerTurn][playerMarker:]\n",
    "\n",
    "print(scoreMap)"
   ]
  },
  {
   "cell_type": "markdown",
   "metadata": {},
   "source": [
    "```python\n",
    "else:\n",
    "    print(\"\\nPosition \\'{}\\' Is Taken By {}\\'s.\\n\".format(playerMarker, boardPosition[playerMarker - 1]))\n",
    "    playerMarker = 0\n",
    "```\n",
    "If the position entered by the user is invalid (e.g. the position is occupied by another marker), the program will catch this under this else statement. This displays a simple message saying that position $x$ is taken by what ever player marker exists in the location.  If this is the case, the *playerMarker* is assigned to the value 0, forcing the while loop to iterate once more.\n",
    "\n",
    "```python\n",
    "if scoreMap[playerTurn] in correctCombs:\n",
    "    printBoard(boardPosition)\n",
    "    print(\"{}\\'s Win!\".format(playerTurn))\n",
    "    break\n",
    "```\n",
    "If the score assigned to the player marker in the *scoreMap* dictionary object is in the list of winning combonations, then the program will display the playing board (to show the user that they have won). It will then display to the console the winner of the game, and a simple break command enforces that the program breaks out of the for loop once the player has won."
   ]
  }
 ],
 "metadata": {
  "kernelspec": {
   "display_name": "Python 3",
   "language": "python",
   "name": "python3"
  },
  "language_info": {
   "codemirror_mode": {
    "name": "ipython",
    "version": 3
   },
   "file_extension": ".py",
   "mimetype": "text/x-python",
   "name": "python",
   "nbconvert_exporter": "python",
   "pygments_lexer": "ipython3",
   "version": "3.5.2"
  }
 },
 "nbformat": 4,
 "nbformat_minor": 2
}
