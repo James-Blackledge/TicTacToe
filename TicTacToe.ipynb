{
 "cells": [
  {
   "cell_type": "markdown",
   "metadata": {},
   "source": [
    "# Noughts & Crosses."
   ]
  },
  {
   "cell_type": "markdown",
   "metadata": {},
   "source": [
    "## Planning.\n",
    "\n",
    "### Rules:\n",
    "Noughts and Crosses is a game which involves two players, taking turns on marking positions on a 3x3 grid with either an 'X' or an 'O'. In order to win the game, a player must successfully place three of their markers in a horizontal, vertical or diagonal series. If no player is able to place their markers in a series of three, then the game is considered a draw."
   ]
  },
  {
   "cell_type": "code",
   "execution_count": null,
   "metadata": {},
   "outputs": [],
   "source": [
    "printBoard = lambda num: print(\"\\n{} | {} | {}\\n---------\\n{} | {} | {}\\n---------\\n{} | {} | {}\\n\".format(\n",
    "    num[6], num[7], num[8], num[3], num[4], num[5], num[0], num[1], num[2]))\n",
    "\n",
    "boardPosition = [str(x) for x in range(1, 10)]\n",
    "scoreMap = {'X': '000000000', 'O': '000000000'}\n",
    "\n",
    "correctCombs = ['111000000', '000111000', '000000111', '100100100', '010010010', '001001001', '100010001', '001010100']\n",
    "\n",
    "for i in range(1, 10):\n",
    "    printBoard(boardPosition)\n",
    "    \n",
    "    playerMarker = 0\n",
    "    playerTurn = ('X', 'O')[i % 2 == 0]\n",
    "\n",
    "    while playerMarker == 0:\n",
    "        playerMarker = int(input(\"{} >> Enter Position - {}: \".format(playerTurn, ', '.join([x for x in boardPosition if x.isdigit()]))))\n",
    "\n",
    "        if boardPosition[playerMarker - 1].isdigit():\n",
    "            boardPosition[playerMarker - 1] = playerTurn    \n",
    "            scoreMap[playerTurn] = scoreMap[playerTurn][:playerMarker - 1] + '1' + scoreMap[playerTurn][playerMarker:]\n",
    "        else:\n",
    "            print(\"\\nPosition \\'{}\\' Is Taken By {}\\'s.\\n\".format(playerMarker, boardPosition[playerMarker - 1])); playerMarker = 0\n",
    "\n",
    "    if scoreMap[playerTurn] in correctCombs:\n",
    "        printBoard(boardPosition)\n",
    "        print(\"{}\\'s Win!\".format(playerTurn)); break"
   ]
  },
  {
   "cell_type": "markdown",
   "metadata": {},
   "source": [
    "# The First Iteration (27/01/2018).\n",
    "\n",
    "## The Board.\n",
    "```python\n",
    "printBoard = lambda num: print(\"\\n{} | {} | {}\\n---------\\n{} | {} | {}\\n---------\\n{} | {} | {}\\n\".format(\n",
    "    num[6], num[7], num[8], num[3], num[4], num[5], num[0], num[1], num[2]))\n",
    "```\n",
    "This lambda function, *printBoard()*, takes a paremeter, in the form of a list object. The list argument should consist of 9 elements; initially the elements will be numbers ordered from 1 to 9. The string argument of the *print()* function neatly outputs the board for noughts and crosses. The use of the list argument allows the program to update the board when a player  has placed their marker in a particualr position. For example, if the player on the 'X' team places their marker in the middle of the board (the 5<sup>th</sup> position), num[4] would equal 'X'; thus the 5<sup>th</sup> position will not contain '5', it will contain 'X'.\n",
    "\n",
    "```python\n",
    "boardPosition = [str(x) for x in range(1, 10)]\n",
    "```\n",
    "The list object *boardPosition[]* contains numbers ordered from 1 to 9 that will be used to identify positions on the board. I typecast the integers to the string data type so that I can neatly display them on the noughts and crosses board. This will also allow me to replace a particular number in the list (the position on the board) with a player marker ('X' or 'O') that is also of string data type. This list object is parsed through the printBoard function.\n",
    "\n",
    "```python\n",
    "scoreMap = {'X': '000000000', 'O': '000000000'}\n",
    "```\n",
    "The dictionary object *scoreMap{}* maps each player marker ('X' or 'O') with a string, representing where on the board the player has a marker. If the player has a marker in a particular position, the position index will be used to replace the '0' with a '1' in the mapped string index (using the same position index). For example, if the 'X' player has their marker in board positions 1, 4, and 7, the string mapped to 'X' will change from '000000000' to '100100100'. The value mapped to the key is used to check if the player has won.\n",
    "\n",
    "```python\n",
    "correctCombs = ['111000000', '000111000', '000000111', '100100100', '010010010', '001001001', '100010001', '001010100']\n",
    "```\n",
    "The list object *correctCombs[]* contains all of the correct winning combonations. This list is used to identify whether the player has won, by checking if the string mapped to the player marker in the *scoreMap{}* dictionary object is in this list.\n",
    "\n",
    "## The Main Game.\n",
    "\n",
    "```python\n",
    "for i in range(1, 10):\n",
    "```\n",
    "This for loop will iterate 9 times over. The counter variable 'i' will start off equating to 1, and will increment by 1 each loop until the 9<sup>th</sup> iteration. This counter variable is used to identifiy which player's turn it is.\n",
    "\n",
    "```python\n",
    "printBoard(boardPosition)\n",
    "```\n",
    "Here I parse the *boardPosition[]* list object through the lambda function *printBoard()*. This will simply display the board to the user. For example, when the user initially starts the game, the board will be identical to this:\n",
    "```python\n",
    "7 | 8 | 9\n",
    "---------\n",
    "4 | 5 | 6\n",
    "---------\n",
    "1 | 2 | 3\n",
    "```\n",
    "\n",
    "```python\n",
    "playerMarker = 0\n",
    "playerTurn = ('X', 'O')[i % 2 == 0]\n",
    "```\n",
    "The *playerMarker* variable simply stores the number 0. This will allow the following while loop to enter it's cycle, but this will change when the player choses where they want to move."
   ]
  }
 ],
 "metadata": {
  "kernelspec": {
   "display_name": "Python 3",
   "language": "python",
   "name": "python3"
  },
  "language_info": {
   "codemirror_mode": {
    "name": "ipython",
    "version": 3
   },
   "file_extension": ".py",
   "mimetype": "text/x-python",
   "name": "python",
   "nbconvert_exporter": "python",
   "pygments_lexer": "ipython3",
   "version": "3.5.2"
  }
 },
 "nbformat": 4,
 "nbformat_minor": 2
}
